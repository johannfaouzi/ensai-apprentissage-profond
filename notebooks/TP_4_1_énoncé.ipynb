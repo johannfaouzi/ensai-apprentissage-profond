{
 "cells": [
  {
   "cell_type": "markdown",
   "id": "a729761a",
   "metadata": {},
   "source": [
    "**Avant de débuter ce TP** :\n",
    "\n",
    "1. **Changez le type d'exécution sur Google Colab** : `Exécution > Modifiez le type d'exécution > T4 GPU`\n",
    "2. **Installez les paquets ci-dessous** :"
   ]
  },
  {
   "cell_type": "code",
   "execution_count": null,
   "id": "c03161bd",
   "metadata": {},
   "outputs": [],
   "source": [
    "! pip install lightning torchmetrics torchinfo"
   ]
  },
  {
   "cell_type": "markdown",
   "id": "ab76bdb8",
   "metadata": {},
   "source": [
    "3. Exécutez ce code pour supprimer quelques messages et avertissements éventuellement affichés."
   ]
  },
  {
   "cell_type": "code",
   "execution_count": null,
   "id": "65832519",
   "metadata": {},
   "outputs": [],
   "source": [
    "import logging\n",
    "logging.getLogger(\"lightning\").setLevel(logging.ERROR)\n",
    "logging.getLogger(\"lightning.pytorch.utilities.rank_zero\").setLevel(logging.WARNING)\n",
    "logging.getLogger(\"lightning.pytorch.accelerators.cuda\").setLevel(logging.WARNING)\n",
    "logger = logging.getLogger(\"lightning\")\n",
    "logger.propagate = False\n",
    "\n",
    "import warnings\n",
    "warnings.filterwarnings(\"ignore\", \".*does not have many workers.*\")"
   ]
  },
  {
   "cell_type": "markdown",
   "id": "2682ff49",
   "metadata": {},
   "source": [
    "# *Inpainting* d'images masquées\n",
    "\n",
    "Dans ce notebook, vous allez travailler sur le jeu de données [MNIST](https://en.wikipedia.org/wiki/MNIST_database) constitué d'images de chiffres manuscrits.\n",
    "\n",
    "L'[*inpainting*](https://fr.wikipedia.org/wiki/Inpainting) consiste à reconstruire des images détériorées ou à remplir des parties manques des images.\n",
    "L'exemple ci-dessous est tiré de la page Wikipedia concernant l'*inpainting*.\n",
    "À gauche se trouve l'image détériorée et à droite se trouve l'image reconstruite.\n",
    "\n",
    "<img src=\"https://upload.wikimedia.org/wikipedia/commons/f/f8/Restoration.jpg\" width=800 />\n",
    "\n",
    "**L'objectif est de reconstruire les images à partir des images détériorées.**"
   ]
  },
  {
   "cell_type": "markdown",
   "id": "e88bf550",
   "metadata": {},
   "source": [
    "## Téléchargement et visualisation des données\n",
    "\n",
    "La fonction `load_dataset()` définie ci-dessous permet de télécharger le jeu de données."
   ]
  },
  {
   "cell_type": "code",
   "execution_count": null,
   "id": "c683c4ae",
   "metadata": {},
   "outputs": [],
   "source": [
    "import torch\n",
    "\n",
    "\n",
    "def load_dataset(train, path=\"data\"):\n",
    "    \"\"\"Charge le jeu de données.\n",
    "\n",
    "    Parameters\n",
    "    ----------\n",
    "    train : bool\n",
    "        Si True, renvoie le jeu d'entraînement. Sinon, renvoie le jeu de validation.\n",
    "\n",
    "    path : str\n",
    "        Chemin du répertoire où charger ou télécharger le jeu de données.\n",
    "\n",
    "    Returns\n",
    "    -------\n",
    "    X : Tensor, shape = (n_observations, 1, hauteur, largeur)\n",
    "        Images originales.\n",
    "    \"\"\"\n",
    "    from torchvision.datasets import MNIST\n",
    "\n",
    "    # Télécharge les données\n",
    "    dataset = MNIST(root=path, download=True, train=train)\n",
    "    \n",
    "    # Formate le tenseur\n",
    "    X = torch.unsqueeze(dataset.data / 255, 1)\n",
    "\n",
    "    return X"
   ]
  },
  {
   "cell_type": "markdown",
   "id": "2e468f8c",
   "metadata": {},
   "source": [
    "Il suffit d'appeler cette fonction pour récupérer les jeux d'entraînement et de validation."
   ]
  },
  {
   "cell_type": "code",
   "execution_count": null,
   "id": "ae3857d4",
   "metadata": {},
   "outputs": [],
   "source": [
    "X_train_original = load_dataset(train=True)\n",
    "X_val_original = load_dataset(train=False)"
   ]
  },
  {
   "cell_type": "markdown",
   "id": "0fa02739",
   "metadata": {},
   "source": [
    "### Question 1\n",
    "\n",
    "Déterminez le nombre d'observations dans les jeux d'entraînement et de validation.\n",
    "Déterminez (par du code) la taille de chaque observation (on admettra que toutes les observations ont la même taille, il suffit donc de calculer la taille d'une seule observation)."
   ]
  },
  {
   "cell_type": "code",
   "execution_count": null,
   "id": "ce817c01",
   "metadata": {},
   "outputs": [],
   "source": [
    "# TODO"
   ]
  },
  {
   "cell_type": "markdown",
   "id": "7e95f2fc",
   "metadata": {},
   "source": [
    "### Question 2\n",
    "\n",
    "Quelles sont les valeurs minimale et maximale des pixels sur le jeu d'entraînement ?"
   ]
  },
  {
   "cell_type": "code",
   "execution_count": null,
   "id": "1bea2065",
   "metadata": {},
   "outputs": [],
   "source": [
    "# TODO"
   ]
  },
  {
   "cell_type": "markdown",
   "id": "36d2412f",
   "metadata": {},
   "source": [
    "Le jeu de données ne contient que les images originales (non-détériorées).\n",
    "Il va donc falloir implémenter notre propre technique de détérioration d'images.\n",
    "Nous allons implémenter quelque chose de simple : chaque pixel est remplacé, avec une probabilité $p$, par un pixel noir (c'est-à-dire un pixel dont la valeur est $0.0$).\n",
    "Une implémentation possible de cette approche est la suivante :\n",
    "\n",
    "1. Générer un tenseur de variables aléatoires uniformes sur l'intervalle $[0, 1]$ de la même forme que le tenseur d'entrées. Pour ce faire, vous pouvez utiliser la fonction [`torch.rand_like()`](https://docs.pytorch.org/docs/stable/generated/torch.rand_like.html).\n",
    "2. Transformer ce tenseur de variables aléatoires uniformes en un masque, c'est-à-dire un tenseur de booléens, indiquant quels éléments du tenseur d'entrée garder : les éléments gardés sont ceux dont la variable aléatoire uniforme est supérieure à $p$.\n",
    "3. Multiplier le tenseur d'entrées par le masque : les éléments pour lesquels le masque vaut `True` sont gardés, et les éléments pour lesquels le masque vaut `False` sont remplacés par $0$.\n",
    "\n",
    "\n",
    "La fonction `deteriorate_images()` définie ci-dessous permet d'effectuer cette détérioration.\n",
    "\n",
    "### Question 3\n",
    "\n",
    "Complétez le code manquant dans la fonction `deteriorate_images()`."
   ]
  },
  {
   "cell_type": "code",
   "execution_count": null,
   "id": "327fd0d0",
   "metadata": {},
   "outputs": [],
   "source": [
    "def deteriorate_images(images, p=0.5):\n",
    "    \"\"\"Détériore des images.\n",
    "    \n",
    "    Parameters\n",
    "    ----------\n",
    "    images : Tensor, shape = (n_images, 1, hauteur, largeur)\n",
    "        Images originales.\n",
    "    \n",
    "    p : float, default = 0.5\n",
    "        Probabilité de remplacer chaque pixel par un pixel noir.\n",
    "    \n",
    "    Returns\n",
    "    -------\n",
    "    images_masked : Tensor, shape = (n_images, 1, hauteur, largeur)\n",
    "        Images détériorées.\n",
    "    \"\"\"\n",
    "    ### BEGIN TODO ###\n",
    "    \n",
    "    ### END TODO\n",
    "    return images_masked"
   ]
  },
  {
   "cell_type": "markdown",
   "id": "3cd983f0",
   "metadata": {},
   "source": [
    "On appelle maintenant la fonction `deteriorate_images()`, avec `p=0.5`, pour créer des images détériorées sur les jeux d'entraînement et de validation :"
   ]
  },
  {
   "cell_type": "code",
   "execution_count": null,
   "id": "172b01bf",
   "metadata": {},
   "outputs": [],
   "source": [
    "X_train_deteriorated = deteriorate_images(X_train_original)\n",
    "X_val_deteriorated = deteriorate_images(X_val_original)"
   ]
  },
  {
   "cell_type": "markdown",
   "id": "a1505356",
   "metadata": {},
   "source": [
    "La fonction `plot_original_and_deteriorated_images()` définie ci-dessous permet de visualiser cette opération : elle prend en entrée un lot d'images originales, applique la transformation et affiche les images originales et détériorées."
   ]
  },
  {
   "cell_type": "code",
   "execution_count": null,
   "id": "0d9da5f0",
   "metadata": {},
   "outputs": [],
   "source": [
    "import matplotlib.pyplot as plt\n",
    "\n",
    "\n",
    "def plot_original_and_deteriorated_images(images_original, images_deteriorated):\n",
    "    \"\"\"Affiche les images originales et les images détériorées.\n",
    "\n",
    "    Parameters\n",
    "    ----------\n",
    "    images_original : Tensor, shape = (n_images, 1, hauteur, largeur)\n",
    "        Images originales.\n",
    "        \n",
    "    images_deteriorated : Tensor, shape = (n_images, 1, hauteur, largeur)\n",
    "        Images détériorées.\n",
    "    \"\"\"\n",
    "    # Récupère le nombre d'images\n",
    "    n_images = images_original.shape[0]\n",
    "\n",
    "    # Initialise la figure\n",
    "    plt.figure(figsize=(6.5, 3 * n_images))\n",
    "\n",
    "    # Pour chaque ligne\n",
    "    for row in range(n_images):\n",
    "\n",
    "        # Affiche l'image originale\n",
    "        plt.subplot(n_images, 2, 1 + row * 2)\n",
    "        plt.imshow(images_original[row, 0], cmap=\"gray\", vmin=0.0, vmax=1.0)\n",
    "        plt.title(\"Image originale\")\n",
    "        plt.axis(\"off\");\n",
    "\n",
    "        # Affiche l'image détériorée\n",
    "        plt.subplot(n_images, 2, 2 + row * 2)\n",
    "        plt.imshow(images_deteriorated[row, 0], cmap=\"gray\", vmin=0.0, vmax=1.0)\n",
    "        plt.title(\"Image détériorée\")\n",
    "        plt.axis(\"off\");"
   ]
  },
  {
   "cell_type": "markdown",
   "id": "131c6b01",
   "metadata": {},
   "source": [
    "### Question 4\n",
    "\n",
    "Appelez la fonction `plot_original_and_deteriorated_images()` pour afficher quelques images originales et détériorées des jeux d'entraînement et de validation."
   ]
  },
  {
   "cell_type": "code",
   "execution_count": null,
   "id": "d7097f84",
   "metadata": {},
   "outputs": [],
   "source": [
    "# TODO"
   ]
  },
  {
   "cell_type": "code",
   "execution_count": null,
   "id": "6c3a40f6",
   "metadata": {},
   "outputs": [],
   "source": [
    "# TODO"
   ]
  },
  {
   "cell_type": "markdown",
   "id": "c0239ca9",
   "metadata": {},
   "source": [
    "Nous allons évaluer la performance des modèles avec l’erreur quadratique moyenne (*mean squared error*) :\n",
    "$$\n",
    "  \\text{MSE} = \\frac{1}{n H W} \\sum_{i=1}^n \\sum_{j=1}^H \\sum_{k=1}^W \\left( X_{i, j, k} - \\hat{X}_{i, j, k} \\right)^2\n",
    "$$\n",
    "où $n$ est le nombre d'images, $H$ est la hauteur (c'est-à-dire le nombre de lignes) et $W$ est la largeur (c'est-à-dire le nombre de colonnes).\n",
    "\n",
    "\n",
    "Un modèle vraiment trivial consiste à ne prédire que des images noires (c'est-à-dire dont tous les pixels sont égaux à $0.0$) :\n",
    "$$\n",
    "    \\forall i, j, k, \\; \\hat{X}_{i, j, k} = 0.0\n",
    "$$\n",
    "\n",
    "### Question 5\n",
    "\n",
    "Calculez les erreurs quadratiques moyennes sur les jeux d'entraînement et de validation pour cette approche. On rappelle que :\n",
    "\n",
    "* l'opérateur *puissance* en Python s'obtient avec deux étoiles : `2.0 ** 3` veut dire $2.0^3$ ; cet opérateur fonctionne également sur les tenseurs et applique la puissance à chaque élément du tenseur ;\n",
    "* on peut calculer la valeur moyenne d'un tenseur avec la méthode [`torch.Tensor.mean()`](https://docs.pytorch.org/docs/stable/generated/torch.Tensor.mean.html) ou la fonction [`torch.mean()`](https://docs.pytorch.org/docs/stable/generated/torch.mean.html)."
   ]
  },
  {
   "cell_type": "code",
   "execution_count": null,
   "id": "70b6ad63",
   "metadata": {},
   "outputs": [],
   "source": [
    "# TODO"
   ]
  },
  {
   "cell_type": "markdown",
   "id": "0dc07489",
   "metadata": {},
   "source": [
    "Un autre modèle trivial consiste à garder les images détériorées telles quelles.\n",
    "\n",
    "### Question 6\n",
    "\n",
    "Calculez les erreurs quadratiques moyennes sur les jeux d'entraînement et de validation pour cette approche."
   ]
  },
  {
   "cell_type": "code",
   "execution_count": null,
   "id": "56738060",
   "metadata": {},
   "outputs": [],
   "source": [
    "# TODO"
   ]
  },
  {
   "cell_type": "markdown",
   "id": "e91a1e1c",
   "metadata": {},
   "source": [
    "Avant d'entraîner un réseau de neurones, nous allons essayons une approche simple.\n",
    "Nous allons utiliser un noyau de floutage uniforme : on remplace la valeur de chaque pixel par la moyenne uniforme de son pixel et de ses pixels voisins.\n",
    "La fonction `box_blur_convolution()` définie ci-dessous implémente cette approche."
   ]
  },
  {
   "cell_type": "code",
   "execution_count": null,
   "id": "708dabf5",
   "metadata": {},
   "outputs": [],
   "source": [
    "def box_blur_convolution(images_deteriorated, kernel_size=3):\n",
    "    \"\"\"\n",
    "    \n",
    "    Parameters\n",
    "    ----------\n",
    "    images_deteriorated : Tensor, shape = (n_images, 1, hauteur, largeur)\n",
    "        Images détériorées.\n",
    "        \n",
    "    kernel_size : int, default = 3\n",
    "        Taille du noyau. Doit être un entier impair supérieur ou égal à 3.\n",
    "    \n",
    "    Returns\n",
    "    -------\n",
    "    images_convolved : Tensor, shape = (n_images, 1, hauteur, largeur)\n",
    "    \n",
    "    \"\"\"\n",
    "    if not (isinstance(kernel_size, int) and (kernel_size > 2) and (kernel_size % 2 == 1)):\n",
    "        raise ValueError(\"'kernel_size' doit être un entier impair supérieur ou égal à 3.\")\n",
    "    \n",
    "    kernel = torch.ones(1, 1, kernel_size, kernel_size) / kernel_size ** 2\n",
    "    conv = torch.nn.Conv2d(1, 1, kernel_size, padding=\"same\", bias=False)\n",
    "    conv.weight = torch.nn.Parameter(kernel, requires_grad=False)\n",
    "    images_convolved = conv(images_deteriorated)\n",
    "    return images_convolved"
   ]
  },
  {
   "cell_type": "markdown",
   "id": "1d14bd30",
   "metadata": {},
   "source": [
    "On appelle cette fonction pour appliquer la transformation sur les jeux d'entraînement et de validation :"
   ]
  },
  {
   "cell_type": "code",
   "execution_count": null,
   "id": "735cbf90",
   "metadata": {},
   "outputs": [],
   "source": [
    "X_train_reconstructed = box_blur_convolution(X_train_deteriorated)\n",
    "X_val_reconstructed = box_blur_convolution(X_val_deteriorated)"
   ]
  },
  {
   "cell_type": "markdown",
   "id": "3669bae6",
   "metadata": {},
   "source": [
    "### Question 7\n",
    "\n",
    "Calculez les erreurs quadratiques moyennes sur ces deux jeux."
   ]
  },
  {
   "cell_type": "code",
   "execution_count": null,
   "id": "36358da4",
   "metadata": {},
   "outputs": [],
   "source": [
    "# TODO"
   ]
  },
  {
   "cell_type": "markdown",
   "id": "4f7e2343",
   "metadata": {},
   "source": [
    "On définit la fonction `plot_original_deteriorated_reconstructed_images()` pour afficher des images originales, des images détériorées et des images reconstruites."
   ]
  },
  {
   "cell_type": "code",
   "execution_count": null,
   "id": "61caab50",
   "metadata": {
    "scrolled": true
   },
   "outputs": [],
   "source": [
    "def plot_original_deteriorated_reconstructed_images(\n",
    "    images_original, images_deteriorated, images_reconstructed\n",
    "):\n",
    "    \"\"\"Affiche les images originales, les images détériorées et les images reconstruites.\n",
    "\n",
    "    Parameters\n",
    "    ----------\n",
    "    images_original : Tensor, shape = (n_images, 1, hauteur, largeur)\n",
    "        Images originales.\n",
    "        \n",
    "    images_deteriorated : Tensor, shape = (n_images, 1, hauteur, largeur)\n",
    "        Images détériorées.\n",
    "    \n",
    "    images_reconstructed : Tensor, shape = (n_images, 1, hauteur, largeur)\n",
    "        Images reconstruites.\n",
    "    \"\"\"\n",
    "    # Récupère le nombre d'images\n",
    "    n_images = images_original.shape[0]\n",
    "\n",
    "    # Initialise la figure\n",
    "    plt.figure(figsize=(6.5, 3 * n_images))\n",
    "\n",
    "    # Pour chaque ligne\n",
    "    for row in range(n_images):\n",
    "\n",
    "        # Affiche l'image originale\n",
    "        plt.subplot(n_images, 3, 1 + row * 3)\n",
    "        plt.imshow(images_original[row, 0], cmap=\"gray\", vmin=0.0, vmax=1.0)\n",
    "        plt.title(\"Image originale\")\n",
    "        plt.axis(\"off\");\n",
    "\n",
    "        # Affiche l'image détériorée\n",
    "        plt.subplot(n_images, 3, 2 + row * 3)\n",
    "        plt.imshow(images_deteriorated[row, 0], cmap=\"gray\", vmin=0.0, vmax=1.0)\n",
    "        plt.title(\"Image détériorée\")\n",
    "        plt.axis(\"off\");\n",
    "        \n",
    "        # Affiche l'image reconstruite\n",
    "        plt.subplot(n_images, 3, 3 + row * 3)\n",
    "        plt.imshow(images_reconstructed[row, 0], cmap=\"gray\", vmin=0.0, vmax=1.0)\n",
    "        plt.title(\"Image reconstruite\")\n",
    "        plt.axis(\"off\");"
   ]
  },
  {
   "cell_type": "markdown",
   "id": "b5f57bf5",
   "metadata": {},
   "source": [
    "### Question 8\n",
    "\n",
    "Appelez la fonction `plot_original_deteriorated_reconstructed_images()` pour afficher des images originales, des images détériorées et des images reconstruites sur le jeu de validation. Que constatez-vous ?"
   ]
  },
  {
   "cell_type": "code",
   "execution_count": null,
   "id": "67b1c6e1",
   "metadata": {},
   "outputs": [],
   "source": [
    "# TODO"
   ]
  },
  {
   "cell_type": "markdown",
   "id": "ac82ddf9",
   "metadata": {},
   "source": [
    "**Réponse** : TODO"
   ]
  },
  {
   "cell_type": "markdown",
   "id": "c9acd310",
   "metadata": {},
   "source": [
    "### Question 9\n",
    "\n",
    "Pour confirmer votre réponse à la question précédente, affichez la distribution des pixels des images originales d'une part et des images reconstruites d'autre part, sur le jeu d'entraînement.\n",
    "Vous pouvez utiliser la fonction [`matplotlib.pyplot.hist()`](https://matplotlib.org/stable/api/_as_gen/matplotlib.pyplot.hist.html)."
   ]
  },
  {
   "cell_type": "code",
   "execution_count": null,
   "id": "26c0f77b",
   "metadata": {},
   "outputs": [],
   "source": [
    "# TODO"
   ]
  },
  {
   "cell_type": "markdown",
   "id": "484ae9d2",
   "metadata": {},
   "source": [
    "Pour essayer de remédier à ce problème, nous allons normaliser les images pour que la valeur maximale des pixels de chaque image reconstruite soit égale à $1.0$. Pour ce faire, on va simplement diviser chaque pixel d'une image reconstruite par la valeur maximale des pixels de cette image reconsruite.\n",
    "\n",
    "### Question 10\n",
    "\n",
    "1. Appliquez cette transformation aux images reconstruites des jeux d'entraînement et d'évaluation.\n",
    "2. Affichez la nouvelle distribution des pixels sur le jeu d'entraînement.\n",
    "3. Affichez quelques images reconstruites normalisées sur le jeu de validation avec la fonction `plot_original_deteriorated_reconstructed_images()`.\n",
    "4. Calculez les erreurs quadratiques moyennes sur les deux jeux.\n",
    "5. Commentez les résultats obtenus.\n",
    "\n",
    "Pour répondre à la première question, vous pouvez utiliser la fonction [`torch.amax()`](https://docs.pytorch.org/docs/stable/generated/torch.amax.html) ou la méthode [`torch.Tensor.amax()`](https://docs.pytorch.org/docs/stable/generated/torch.Tensor.amax.html).\n",
    "Lisez la documentation, notamment pour les paramètres `dim` et `keepdim`.\n",
    "Il est possible de répondre à la question sans boucle `for` grâce au [*broadcasting*](https://docs.pytorch.org/docs/stable/notes/broadcasting.html)."
   ]
  },
  {
   "cell_type": "code",
   "execution_count": null,
   "id": "c7bf3c52",
   "metadata": {},
   "outputs": [],
   "source": [
    "# TODO"
   ]
  },
  {
   "cell_type": "code",
   "execution_count": null,
   "id": "983d9d3c",
   "metadata": {},
   "outputs": [],
   "source": [
    "# TODO"
   ]
  },
  {
   "cell_type": "code",
   "execution_count": null,
   "id": "6dc978bb",
   "metadata": {},
   "outputs": [],
   "source": [
    "# TODO"
   ]
  },
  {
   "cell_type": "code",
   "execution_count": null,
   "id": "7fed9427",
   "metadata": {},
   "outputs": [],
   "source": [
    "# TODO"
   ]
  },
  {
   "cell_type": "markdown",
   "id": "a5d478ba",
   "metadata": {},
   "source": [
    "**Réponse** : TODO"
   ]
  },
  {
   "cell_type": "markdown",
   "id": "570fac56",
   "metadata": {},
   "source": [
    "Nous allons maintenant essayer une autre approche un peu plus avancée pour rendre la distribution des pixels des images reconstruites plus proche de celles des pixels des images originales.\n",
    "Pour cela, nous allons utiliser la **transformation par quantiles**.\n",
    "\n",
    "Sur le jeu d'entraînement, on apprend :\n",
    "* $T_1$ : la transformation qui passe de la distribution des pixels des images originales à une distribution uniforme, et\n",
    "* $T_2$ : la transformation qui passe de la distribution des pixels des images reconstruites à une distribution uniforme.\n",
    "\n",
    "Ensuite, pour transformer les images reconstruites afin que la distribution de leurs pixels suive la distribution des pixels des images originales, on applique la transformation $T_1^{-1} \\circ T_2$ aux images reconstruites.\n",
    "\n",
    "Le code ci-dessous applique ces transformations sur les jeux d'entraînement et d'évaluation :"
   ]
  },
  {
   "cell_type": "code",
   "execution_count": null,
   "id": "ce799684",
   "metadata": {},
   "outputs": [],
   "source": [
    "from sklearn.preprocessing import QuantileTransformer\n",
    "\n",
    "\n",
    "qt_train_original = QuantileTransformer(n_quantiles=100, subsample=None)\n",
    "qt_train_reconstructed = QuantileTransformer(n_quantiles=100, subsample=None)\n",
    "\n",
    "qt_train_original.fit(X_train_original.ravel().view(-1, 1))\n",
    "qt_train_reconstructed.fit(X_train_reconstructed.ravel().view(-1, 1))\n",
    "\n",
    "X_train_reconstructed_quantile = qt_train_original.inverse_transform(\n",
    "    qt_train_reconstructed.transform(X_train_reconstructed.ravel().view(-1, 1))\n",
    ").reshape(X_train_reconstructed.shape)\n",
    "\n",
    "X_val_reconstructed_quantile = qt_train_original.inverse_transform(\n",
    "    qt_train_reconstructed.transform(X_val_reconstructed.ravel().view(-1, 1))\n",
    ").reshape(X_val_reconstructed.shape)"
   ]
  },
  {
   "cell_type": "markdown",
   "id": "be365ca7",
   "metadata": {},
   "source": [
    "### Question 11\n",
    "\n",
    "1. Affichez la nouvelle distribution des pixels sur le jeu d'entraînement.\n",
    "2. Affichez quelques images reconstruites transformées sur le jeu de validation avec la fonction `plot_original_deteriorated_reconstructed_images()`.\n",
    "3. Calculez les erreurs quadratiques moyennes sur les deux jeux.\n",
    "4. Commentez les résultats obtenus."
   ]
  },
  {
   "cell_type": "code",
   "execution_count": null,
   "id": "470489e0",
   "metadata": {},
   "outputs": [],
   "source": [
    "# TODO"
   ]
  },
  {
   "cell_type": "code",
   "execution_count": null,
   "id": "75f3e6fa",
   "metadata": {},
   "outputs": [],
   "source": [
    "# TODO"
   ]
  },
  {
   "cell_type": "code",
   "execution_count": null,
   "id": "9deb01ff",
   "metadata": {},
   "outputs": [],
   "source": [
    "# TODO"
   ]
  },
  {
   "cell_type": "markdown",
   "id": "69209ba0",
   "metadata": {},
   "source": [
    "**Réponse** : TODO"
   ]
  },
  {
   "cell_type": "markdown",
   "id": "35ea1305",
   "metadata": {},
   "source": [
    "Nous allons maintenant essayer une approche par réseaux de neurones convolutifs.\n",
    "\n",
    "### Question 12\n",
    "\n",
    "Créez les *dataloaders* pour les jeux d'entraînement et de validation en utilisant la classe [`torch.utils.data.DataLoader()`](https://docs.pytorch.org/docs/stable/data.html#torch.utils.data.DataLoader) avec des lots de taille $32$. N'oubliez pas de mélanger (*shuffle*) les observations pour le jeu d'entraînement, mais pas pour le jeu de validation. Pour créer les jeux de données, utiliser la classe [`torch.utils.data.TensorDataset()`](https://docs.pytorch.org/docs/stable/data.html#torch.utils.data.TensorDataset). **Chaque jeu de données doit contenir à la fois les images détériorées et les images originales**."
   ]
  },
  {
   "cell_type": "code",
   "execution_count": null,
   "id": "8ef54b20",
   "metadata": {},
   "outputs": [],
   "source": [
    "# TODO"
   ]
  },
  {
   "cell_type": "markdown",
   "id": "84a20c50",
   "metadata": {},
   "source": [
    "## Architecture"
   ]
  },
  {
   "cell_type": "markdown",
   "id": "69747852",
   "metadata": {},
   "source": [
    "Nous allons utiliser une architecture de type auto-encodeur, composée d'un encodeur et d'un décodeur.\n",
    "\n",
    "L'encodeur aura l'architecture séquentielle suivante :\n",
    "\n",
    "* Convolution en deux dimensions avec $32$ canaux en sortie, un noyau de taille $3 \\times 3$ et du rembourrage (*padding*) de $1$.\n",
    "* Fonction d'activation ReLU.\n",
    "* Regroupement par le maximum avec un noyau de taille $2 \\times 2$.\n",
    "* Convolution en deux dimensions avec $16$ canaux en sortie, un noyau de taille $3 \\times 3$ et du rembourrage (*padding*) de $1$.\n",
    "* Fonction d'activation ReLU.\n",
    "* Regroupement par le maximum avec un noyau de taille $2 \\times 2$.\n",
    "* Convolution en deux dimensions avec $8$ canaux en sorties, un noyau de taille $3 \\times 3$ et du rembourrage (*padding*) de $1$.\n",
    "* Fonction d'activation ReLU.\n",
    "* Regroupement par le maximum avec un noyau de taille $2 \\times 2$.\n",
    "\n",
    "Le décodeur aura l'architecture séquentielle suivante :\n",
    "\n",
    "* Convolution transposée avec $8$ canaux en sortie, un noyau de taille $3 \\times 3$ et un pas (*stride*) de taille $2$.\n",
    "* Fonction d'activation ReLU.\n",
    "\n",
    "* Convolution transposée avec $16$ canaux en sortie, un noyau de taille $2 \\times 2$ et un pas (*stride*) de taille $2$.\n",
    "* Fonction d'activation ReLU.\n",
    "\n",
    "* Convolution transposée avec $32$ canaux en sortie, un noyau de taille $2 \\times 2$ et un pas (*stride*) de taille $2$.\n",
    "* Fonction d'activation ReLU.\n",
    "\n",
    "* Convolution avec $1$ canal en sortie, un noyau de taille $3 \\times 3$ et du rembourrage (*padding*) de $1$.\n",
    "* Fonction d'activation sigmoïde.\n",
    "\n",
    "Voici les liens vers les documentations des classes pertinentes :\n",
    "[`torch.nn.Conv2d()`](https://pytorch.org/docs/stable/generated/torch.nn.Conv2d.html),\n",
    "[`torch.nn.ReLU()`](https://pytorch.org/docs/stable/generated/torch.nn.ReLU.html),\n",
    "[`torch.nn.MaxPool2d()`](https://pytorch.org/docs/stable/generated/torch.nn.MaxPool2d.html),\n",
    "[`torch.nn.ConvTranspose2d()`](https://pytorch.org/docs/stable/generated/torch.nn.ConvTranspose2d.html) et\n",
    "[`torch.nn.Sigmoid()`](https://pytorch.org/docs/stable/generated/torch.nn.Sigmoid.html).\n",
    "\n",
    "        \n",
    "### Question 13\n",
    "\n",
    "Complétez le code manquant dans les méthodes `__init__()`, `forward()`, `step()` et `configure_optimizers()` de la classe `DenoisingAutoencoder()` avec les informations suivantes :\n",
    "* `__init__()` : il faut définir la fonction de perte (`self.loss`) : on utilisera l'erreur quadratique moyenne ; il faut initialiser toutes les couches.\n",
    "* `forward()` : il faut définir la passe avant, c'est-à-dire comment passer des entrées (les images détériorées) aux sorties (les images reconstruites).\n",
    "* `step()` : étant donné un lot d'observations (`batch`), il faut :\n",
    "    + récupérer les entrées (les images détériorées) et les vraies sorties (les images originales),\n",
    "    + faire une passe avant pour récupérer les images reconstruites,\n",
    "    + calculer la fonction de coût entre les images reconstruites et les images originales (`loss`).\n",
    "* `configure_optimizers()` : on utilisera l'algorithme d'optimisation *Adam* avec les valeurs par défaut pour ses hyperparamètres."
   ]
  },
  {
   "cell_type": "code",
   "execution_count": null,
   "id": "e2dac183",
   "metadata": {},
   "outputs": [],
   "source": [
    "import lightning as L\n",
    "\n",
    "\n",
    "class DenoisingAutoencoder(L.LightningModule):\n",
    "    \n",
    "    def __init__(self):\n",
    "        \"\"\"Constructeur.\n",
    "        \n",
    "        Dans le constructeur, on exécute le constructeur de la clase mère et on définit\n",
    "        toutes les couches et fonctions d'activation de notre réseau de neurones.\n",
    "        \"\"\"\n",
    "        super().__init__()  # Toujours exécuter le constructeur de la classe mère\n",
    "\n",
    "        ### BEGIN TODO ###\n",
    "        # Initialisation de la fonction de perte\n",
    "        # self.loss = \n",
    "        \n",
    "        # Initialisation de toutes les couches\n",
    "\n",
    "        #### END TODO ####\n",
    "        \n",
    "    def forward(self, X_deteriorated):\n",
    "        \"\"\"Passe avant\n",
    "        \n",
    "        Parameters\n",
    "        ----------\n",
    "        X_deteriorated : Tensor, shape = (taille_lot, 1, hauteur, largeur)\n",
    "            Images détériorées.\n",
    "            \n",
    "        Returns\n",
    "        -------\n",
    "        X_predicted : Tensor, shape = (taille_lot, 1, hauteur, largeur)\n",
    "            Images prédites.\n",
    "        \"\"\"\n",
    "        ### BEGIN TODO ###\n",
    "        # X_predicted = \n",
    "        #### END TODO ####\n",
    "        return X_predicted\n",
    "\n",
    "    def step(self, batch, dataset):\n",
    "        \"\"\"Effectue une étape.\n",
    "\n",
    "        Une étape consiste à passer d'un lot d'images (l'argument X)\n",
    "        à l'évaluation de la fonction de coût pour ce lot d'observations.\n",
    "\n",
    "        Parameters\n",
    "        ----------\n",
    "        batch : list[Tensor]\n",
    "            Lot d'observations.\n",
    "\n",
    "        dataset : {\"training\", \"validation\"}\n",
    "            Jeu de données utilisé.\n",
    "\n",
    "        Returns\n",
    "        -------\n",
    "        loss : Tensor, shape = (1,)\n",
    "            La fonction de coût pour ce lot d'observations.\n",
    "        \"\"\"\n",
    "        ### BEGIN TODO ###\n",
    "        # loss = \n",
    "        #### END TODO ###\n",
    "        \n",
    "        if dataset == \"training\":\n",
    "            name = \"train\"\n",
    "            bar_step = True\n",
    "        else:\n",
    "            name = \"val\"\n",
    "            bar_step = False\n",
    "\n",
    "        self.log(f\"loss_{name}\", loss, prog_bar=bar_step, on_step=bar_step, on_epoch=True)\n",
    "\n",
    "        return loss\n",
    "    \n",
    "    def training_step(self, batch):\n",
    "        \"\"\"Effectue une étape d'entraînement.\"\"\"\n",
    "        return self.step(batch, \"training\")\n",
    "\n",
    "    def validation_step(self, batch):\n",
    "        \"\"\"Effectue une étape de validation.\"\"\"\n",
    "        return self.step(batch, \"validation\")\n",
    "    \n",
    "    def on_train_start(self):\n",
    "        \"\"\"Code exécuté au début de l'entraînement.\"\"\"\n",
    "        string = f\"Version {self.trainer.logger.version}\"\n",
    "        print(f\"{string}\\n{'=' * len(string)}\\n\")\n",
    "        \n",
    "    def on_train_epoch_end(self):\n",
    "        \"\"\"Code exécuté à la fin de chaque époque d'entraînement.\"\"\"\n",
    "        metrics = self.trainer.callback_metrics\n",
    "        string = (f\"\"\"\n",
    "            Époque {self.trainer.current_epoch + 1} / {self.trainer.max_epochs}\n",
    "            ------------------------------------\n",
    "            |     Jeu      | Fonction de perte |\n",
    "            | ------------ | ----------------- |\n",
    "            | Entraînement |{metrics['loss_train'].item():^19.5f}|\n",
    "            |  Validation  |{metrics['loss_val'].item():^19.5f}|\n",
    "            ------------------------------------\n",
    "        \"\"\")\n",
    "        string = '\\n'.join([line.strip() for line in string.strip().split('\\n')])\n",
    "        print(string, '\\n')\n",
    "        \n",
    "    def configure_optimizers(self):\n",
    "        \"\"\"Configure l'algorithme d'optimisation à utiliser.\"\"\"\n",
    "        ### BEGIN TODO ###\n",
    "        # optimizer = \n",
    "        #### END TODO ####\n",
    "        return optimizer"
   ]
  },
  {
   "cell_type": "markdown",
   "id": "10adda94",
   "metadata": {},
   "source": [
    "### Question 14\n",
    "\n",
    "Affichez un résumé de votre architecture. Combien de paramètres entraînables a-t-elle ?"
   ]
  },
  {
   "cell_type": "code",
   "execution_count": null,
   "id": "8cc79ebe",
   "metadata": {},
   "outputs": [],
   "source": [
    "# TODO"
   ]
  },
  {
   "cell_type": "markdown",
   "id": "2ec8706e",
   "metadata": {},
   "source": [
    "**Réponse** : TODO"
   ]
  },
  {
   "cell_type": "markdown",
   "id": "bf034930",
   "metadata": {},
   "source": [
    "### Question 15\n",
    "\n",
    "Entraînez votre modèle pendant $10$ époques."
   ]
  },
  {
   "cell_type": "code",
   "execution_count": null,
   "id": "70f751c3",
   "metadata": {
    "scrolled": false
   },
   "outputs": [],
   "source": [
    "# TODO"
   ]
  },
  {
   "cell_type": "markdown",
   "id": "c0075a9e",
   "metadata": {},
   "source": [
    "On récupère toutes les images reconstruites par le réseau de neurones artificiels sur le jeu de validation :"
   ]
  },
  {
   "cell_type": "code",
   "execution_count": null,
   "id": "e931ceea",
   "metadata": {},
   "outputs": [],
   "source": [
    "X_val_reconstructed_dae = model(X_val_deteriorated).detach()"
   ]
  },
  {
   "cell_type": "markdown",
   "id": "05fdf825",
   "metadata": {},
   "source": [
    "### Question 16\n",
    "\n",
    "En utilisant la fonction `plot_original_deteriorated_reconstructed_images()`, affichez quelques images reconstruites par le réseau de neurones artificiels sur le jeu de validation."
   ]
  },
  {
   "cell_type": "code",
   "execution_count": null,
   "id": "08ccba93",
   "metadata": {},
   "outputs": [],
   "source": [
    "# TODO"
   ]
  },
  {
   "cell_type": "markdown",
   "id": "22ea0b87",
   "metadata": {},
   "source": [
    "### Question 17\n",
    "\n",
    "Quel est le meilleur modèle parmi les différentes approches essayées ? Justifiez votre réponse."
   ]
  },
  {
   "cell_type": "markdown",
   "id": "e6b86ec6",
   "metadata": {},
   "source": [
    "**Réponse** : TODO"
   ]
  }
 ],
 "metadata": {
  "kernelspec": {
   "display_name": "Python 3 (ipykernel)",
   "language": "python",
   "name": "python3"
  },
  "language_info": {
   "codemirror_mode": {
    "name": "ipython",
    "version": 3
   },
   "file_extension": ".py",
   "mimetype": "text/x-python",
   "name": "python",
   "nbconvert_exporter": "python",
   "pygments_lexer": "ipython3",
   "version": "3.12.7"
  }
 },
 "nbformat": 4,
 "nbformat_minor": 5
}
